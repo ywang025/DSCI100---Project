{
 "cells": [
  {
   "cell_type": "code",
   "execution_count": null,
   "id": "322cfe5a-69ab-4cb2-a169-5487ff44e0b1",
   "metadata": {},
   "outputs": [],
   "source": [
    "library(tidyverse)\n",
    "library(readr)\n",
    "url <- \"https://archive.ics.uci.edu/ml/machine-learning-databases/heart-disease/processed.cleveland.data\"\n",
    "cleveland_data <- read_csv(url, colnames = c(\"Age\", \"Sex\", \"Chest_Pain\", \"Rest_BP\",\n",
    "                                             \"Cholesterol\", \"Fast_BS\", \"Rest_ECG\", \n",
    "                                             \"Max_HR\", \"Ex_Angina\", \"ST_Dep"
   ]
  }
 ],
 "metadata": {
  "kernelspec": {
   "display_name": "R",
   "language": "R",
   "name": "ir"
  },
  "language_info": {
   "codemirror_mode": "r",
   "file_extension": ".r",
   "mimetype": "text/x-r-source",
   "name": "R",
   "pygments_lexer": "r",
   "version": "4.1.3"
  }
 },
 "nbformat": 4,
 "nbformat_minor": 5
}
